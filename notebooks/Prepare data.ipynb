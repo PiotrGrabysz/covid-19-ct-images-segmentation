{
 "cells": [
  {
   "cell_type": "markdown",
   "id": "1e8d708e-1bed-4cc5-8f48-934ccbede88c",
   "metadata": {},
   "source": [
    "# Prepare data for training"
   ]
  },
  {
   "cell_type": "code",
   "execution_count": 1,
   "id": "8f6bec80-c6e3-47f0-8c4b-2cd20ede2f00",
   "metadata": {
    "execution": {
     "iopub.execute_input": "2025-06-23T23:21:00.598816Z",
     "iopub.status.busy": "2025-06-23T23:21:00.598497Z",
     "iopub.status.idle": "2025-06-23T23:21:01.146464Z",
     "shell.execute_reply": "2025-06-23T23:21:01.145676Z",
     "shell.execute_reply.started": "2025-06-23T23:21:00.598789Z"
    }
   },
   "outputs": [],
   "source": [
    "from pathlib import Path\n",
    "\n",
    "import numpy as np\n",
    "import matplotlib.pyplot as plt"
   ]
  },
  {
   "cell_type": "markdown",
   "id": "e3adfc33-e6cf-46c3-9be5-aa65b21548a1",
   "metadata": {},
   "source": [
    "## Read data"
   ]
  },
  {
   "cell_type": "markdown",
   "id": "25ab0c7c-de0e-4403-850e-3d137cb8ec65",
   "metadata": {},
   "source": [
    "The data is saved in numpy arrays. \n",
    "Each array has shape $\\texttt{n\\_images} \\times \\texttt{height} \\times \\texttt{width} \\times \\texttt{n\\_channels}$.\n",
    "Number of channels is 1 for CT scans (grayscale images) and 4 for masks, because there are 4 masks:\n",
    "* \"ground glass\"\n",
    "* \"consolidation\"\n",
    "* \"lungs other\"\n",
    "* \"background\""
   ]
  },
  {
   "cell_type": "code",
   "execution_count": 2,
   "id": "931f781e-3bf5-48fb-a2e8-1bd78d63e27e",
   "metadata": {
    "execution": {
     "iopub.execute_input": "2025-06-23T23:21:01.148809Z",
     "iopub.status.busy": "2025-06-23T23:21:01.147852Z",
     "iopub.status.idle": "2025-06-23T23:21:11.701542Z",
     "shell.execute_reply": "2025-06-23T23:21:11.700324Z",
     "shell.execute_reply.started": "2025-06-23T23:21:01.148727Z"
    }
   },
   "outputs": [],
   "source": [
    "prefix = Path(\"covid-segmentation-data/\")\n",
    "\n",
    "images_radiopedia = np.load(prefix / \"images_radiopedia.npy\").astype(np.float32)\n",
    "masks_radiopedia = np.load(prefix / \"masks_radiopedia.npy\").astype(np.int8)\n",
    "images_medseg = np.load(prefix / \"images_medseg.npy\").astype(np.float32)\n",
    "masks_medseg = np.load(prefix / \"masks_medseg.npy\").astype(np.int8)\n",
    "\n",
    "test_images_medseg = np.load(prefix / \"test_images_medseg.npy\").astype(np.float32)"
   ]
  },
  {
   "cell_type": "markdown",
   "id": "304eed36-470e-4fe3-bba2-361a64173a66",
   "metadata": {},
   "source": [
    "## Remove samples with no target masks\n",
    "\n",
    "Remove samples which don't contain any of ground glass nor consolidation"
   ]
  },
  {
   "cell_type": "code",
   "execution_count": 3,
   "id": "b82b80ce-0fdf-456d-88e6-66f29aade424",
   "metadata": {
    "execution": {
     "iopub.execute_input": "2025-06-23T23:21:11.703065Z",
     "iopub.status.busy": "2025-06-23T23:21:11.702606Z",
     "iopub.status.idle": "2025-06-23T23:21:11.977553Z",
     "shell.execute_reply": "2025-06-23T23:21:11.976561Z",
     "shell.execute_reply.started": "2025-06-23T23:21:11.703037Z"
    }
   },
   "outputs": [
    {
     "name": "stdout",
     "output_type": "stream",
     "text": [
      "372\n"
     ]
    }
   ],
   "source": [
    "ground_glass_or_consolidations_mask = np.any(\n",
    "    masks_radiopedia[..., 0] | masks_radiopedia[..., 1], axis=(1, 2)\n",
    ")\n",
    "print(ground_glass_or_consolidations_mask.sum())"
   ]
  },
  {
   "cell_type": "code",
   "execution_count": 4,
   "id": "9da9386b-f47d-4ff5-a2aa-5ab81acfa95f",
   "metadata": {
    "execution": {
     "iopub.execute_input": "2025-06-23T23:21:11.979086Z",
     "iopub.status.busy": "2025-06-23T23:21:11.978739Z",
     "iopub.status.idle": "2025-06-23T23:21:12.493117Z",
     "shell.execute_reply": "2025-06-23T23:21:12.492368Z",
     "shell.execute_reply.started": "2025-06-23T23:21:11.979054Z"
    }
   },
   "outputs": [],
   "source": [
    "images_radiopedia = images_radiopedia[ground_glass_or_consolidations_mask]\n",
    "masks_radiopedia = masks_radiopedia[ground_glass_or_consolidations_mask]"
   ]
  },
  {
   "cell_type": "markdown",
   "id": "f781af60-5590-4a73-b919-24f332ff2030",
   "metadata": {},
   "source": [
    "## Train validation split"
   ]
  },
  {
   "cell_type": "code",
   "execution_count": 5,
   "id": "abad157b-3b7f-4d6b-8bf1-dd0c282b6082",
   "metadata": {
    "execution": {
     "iopub.execute_input": "2025-06-23T23:21:12.495420Z",
     "iopub.status.busy": "2025-06-23T23:21:12.494965Z",
     "iopub.status.idle": "2025-06-23T23:21:13.267059Z",
     "shell.execute_reply": "2025-06-23T23:21:13.266340Z",
     "shell.execute_reply.started": "2025-06-23T23:21:12.495383Z"
    }
   },
   "outputs": [],
   "source": [
    "val_indexes, train_indexes = list(range(24)), list(range(24, 100))\n",
    "\n",
    "train_images = np.concatenate((images_medseg[train_indexes], images_radiopedia))\n",
    "train_masks = np.concatenate((masks_medseg[train_indexes], masks_radiopedia))\n",
    "val_images = images_medseg[val_indexes]\n",
    "val_masks = masks_medseg[val_indexes]\n",
    "\n",
    "del images_radiopedia\n",
    "del masks_radiopedia\n",
    "del images_medseg\n",
    "del masks_medseg"
   ]
  },
  {
   "cell_type": "markdown",
   "id": "71d44de9-749f-4c75-828f-d0ef7f23a8df",
   "metadata": {},
   "source": [
    "## Normalize grayscale images\n",
    "\n",
    "The normalization is taken from [keras baseline.ipynb](https://www.kaggle.com/code/maedemaftouni/pytorch-baseline-for-semantic-segmentation), however I rewrote it as scikit learn transformer myself:"
   ]
  },
  {
   "cell_type": "code",
   "execution_count": 6,
   "id": "d876536d-b668-4eb4-b866-735cbcee33a3",
   "metadata": {
    "execution": {
     "iopub.execute_input": "2025-06-23T23:21:13.268552Z",
     "iopub.status.busy": "2025-06-23T23:21:13.268218Z",
     "iopub.status.idle": "2025-06-23T23:21:14.901504Z",
     "shell.execute_reply": "2025-06-23T23:21:14.900653Z",
     "shell.execute_reply.started": "2025-06-23T23:21:13.268522Z"
    }
   },
   "outputs": [],
   "source": [
    "from sklearn.base import BaseEstimator, TransformerMixin\n",
    "\n",
    "\n",
    "class ImageNormalizer(TransformerMixin, BaseEstimator):\n",
    "    def __init__(self):\n",
    "        self.mean = None\n",
    "        self.std = None\n",
    "\n",
    "    def fit(self, X, y=None):\n",
    "        X = X.copy()\n",
    "        clip_values(X)\n",
    "        self.mean, self.std = calc_mean_std(X)\n",
    "        return self\n",
    "\n",
    "    def transform(self, X):\n",
    "        X = X.copy()\n",
    "        clip_values(X)\n",
    "        X = (X - self.mean) / self.std\n",
    "        return X\n",
    "\n",
    "\n",
    "def clip_values(images_arr):\n",
    "    images_arr[images_arr > 500] = 500\n",
    "    images_arr[images_arr < -1500] = -1500\n",
    "\n",
    "\n",
    "def calc_mean_std(images_arr):\n",
    "    min_perc, max_perc = np.percentile(images_arr, 5), np.percentile(images_arr, 95)\n",
    "    images_arr_valid = images_arr[(images_arr > min_perc) & (images_arr < max_perc)]\n",
    "    mean, std = (images_arr_valid.mean(), images_arr_valid.std())\n",
    "    return mean, std"
   ]
  },
  {
   "cell_type": "code",
   "execution_count": 7,
   "id": "2429eb16-9c4d-414e-9c3c-f0c7d4f76d44",
   "metadata": {
    "execution": {
     "iopub.execute_input": "2025-06-23T23:21:14.902781Z",
     "iopub.status.busy": "2025-06-23T23:21:14.902375Z",
     "iopub.status.idle": "2025-06-23T23:21:20.197533Z",
     "shell.execute_reply": "2025-06-23T23:21:20.196560Z",
     "shell.execute_reply.started": "2025-06-23T23:21:14.902757Z"
    }
   },
   "outputs": [],
   "source": [
    "normalizer = ImageNormalizer()\n",
    "train_images_processed = normalizer.fit_transform(train_images)\n",
    "val_images_processed = normalizer.transform(val_images)\n",
    "test_images_processed = normalizer.transform(test_images_medseg)"
   ]
  },
  {
   "cell_type": "code",
   "execution_count": 8,
   "id": "43225b5b-3651-4561-bbf1-6d50d90ac2d4",
   "metadata": {
    "execution": {
     "iopub.execute_input": "2025-06-23T23:21:20.199085Z",
     "iopub.status.busy": "2025-06-23T23:21:20.198734Z",
     "iopub.status.idle": "2025-06-23T23:21:22.368535Z",
     "shell.execute_reply": "2025-06-23T23:21:22.367503Z",
     "shell.execute_reply.started": "2025-06-23T23:21:20.199053Z"
    }
   },
   "outputs": [
    {
     "data": {
      "image/png": "[encoded data removed]",
      "text/plain": [
       "<Figure size 640x480 with 1 Axes>"
      ]
     },
     "metadata": {},
     "output_type": "display_data"
    }
   ],
   "source": [
    "fig, ax = plt.subplots()\n",
    "\n",
    "ax.hist(\n",
    "    train_images_processed.ravel(),\n",
    "    bins=100,\n",
    "    density=True,\n",
    "    color=\"b\",\n",
    "    alpha=0.5,\n",
    "    label=\"Train data\",\n",
    ")\n",
    "ax.hist(\n",
    "    val_images_processed.ravel(),\n",
    "    bins=100,\n",
    "    density=True,\n",
    "    alpha=0.5,\n",
    "    color=\"orange\",\n",
    "    label=\"Validation data\",\n",
    ")\n",
    "ax.hist(\n",
    "    test_images_processed.ravel(),\n",
    "    bins=100,\n",
    "    density=True,\n",
    "    alpha=0.1,\n",
    "    color=\"green\",\n",
    "    label=\"Test data\",\n",
    ")\n",
    "ax.legend()\n",
    "plt.show()"
   ]
  },
  {
   "cell_type": "markdown",
   "id": "05fb01e8-f3eb-4bc1-b529-288ebed4d282",
   "metadata": {},
   "source": [
    "## Upload data to S3"
   ]
  },
  {
   "cell_type": "code",
   "execution_count": 9,
   "id": "cbbccf18-9f79-4b9b-a2d5-18ba50e7d4ed",
   "metadata": {
    "execution": {
     "iopub.execute_input": "2025-06-23T23:21:22.370411Z",
     "iopub.status.busy": "2025-06-23T23:21:22.369621Z",
     "iopub.status.idle": "2025-06-23T23:21:22.395500Z",
     "shell.execute_reply": "2025-06-23T23:21:22.394497Z",
     "shell.execute_reply.started": "2025-06-23T23:21:22.370375Z"
    }
   },
   "outputs": [],
   "source": [
    "processed_dir = Path(\"processed\")\n",
    "train_dir = processed_dir / \"train\"\n",
    "val_dir = processed_dir / \"val\"\n",
    "test_dir = processed_dir / \"test\"\n",
    "\n",
    "for path in (processed_dir, train_dir, val_dir, test_dir):\n",
    "    path.mkdir(exist_ok=True)"
   ]
  },
  {
   "cell_type": "code",
   "execution_count": 10,
   "id": "86229362-7c2c-4349-8855-367f67f87df2",
   "metadata": {
    "execution": {
     "iopub.execute_input": "2025-06-23T23:21:22.396918Z",
     "iopub.status.busy": "2025-06-23T23:21:22.396479Z",
     "iopub.status.idle": "2025-06-23T23:21:31.938723Z",
     "shell.execute_reply": "2025-06-23T23:21:31.937937Z",
     "shell.execute_reply.started": "2025-06-23T23:21:22.396879Z"
    }
   },
   "outputs": [],
   "source": [
    "np.save(train_dir / \"images.npy\", train_images_processed)\n",
    "np.save(train_dir / \"masks.npy\", train_masks)\n",
    "\n",
    "np.save(val_dir / \"images.npy\", val_images_processed)\n",
    "np.save(val_dir / \"masks.npy\", val_masks)\n",
    "\n",
    "np.save(test_dir / \"images.npy\", test_images_processed)"
   ]
  },
  {
   "cell_type": "code",
   "execution_count": 11,
   "id": "a00179bf-584f-40e9-a6bb-5c23368290d6",
   "metadata": {
    "execution": {
     "iopub.execute_input": "2025-06-23T23:21:31.940106Z",
     "iopub.status.busy": "2025-06-23T23:21:31.939659Z",
     "iopub.status.idle": "2025-06-23T23:21:31.944043Z",
     "shell.execute_reply": "2025-06-23T23:21:31.943204Z",
     "shell.execute_reply.started": "2025-06-23T23:21:31.940075Z"
    }
   },
   "outputs": [],
   "source": [
    "# TODO: upload to S3"
   ]
  },
  {
   "cell_type": "code",
   "execution_count": 12,
   "id": "cb9bca86-1e6d-4841-aba4-f674d561aaa8",
   "metadata": {
    "execution": {
     "iopub.execute_input": "2025-06-23T23:24:48.304731Z",
     "iopub.status.busy": "2025-06-23T23:24:48.304450Z",
     "iopub.status.idle": "2025-06-23T23:24:51.537672Z",
     "shell.execute_reply": "2025-06-23T23:24:51.536825Z",
     "shell.execute_reply.started": "2025-06-23T23:24:48.304710Z"
    }
   },
   "outputs": [
    {
     "name": "stdout",
     "output_type": "stream",
     "text": [
      "sagemaker.config INFO - Not applying SDK defaults from location: /etc/xdg/sagemaker/config.yaml\n",
      "sagemaker.config INFO - Not applying SDK defaults from location: /home/sagemaker-user/.config/sagemaker/config.yaml\n"
     ]
    }
   ],
   "source": [
    "import boto3\n",
    "import sagemaker\n",
    "\n",
    "s3_client = boto3.client('s3')\n",
    "sess = sagemaker.Session()\n",
    "bucket = sess.default_bucket()"
   ]
  },
  {
   "cell_type": "code",
   "execution_count": 17,
   "id": "41ccf7c8-0ce1-431e-bffa-75f4f7b54237",
   "metadata": {
    "execution": {
     "iopub.execute_input": "2025-06-23T23:28:58.199183Z",
     "iopub.status.busy": "2025-06-23T23:28:58.198448Z",
     "iopub.status.idle": "2025-06-23T23:29:06.060420Z",
     "shell.execute_reply": "2025-06-23T23:29:06.059506Z",
     "shell.execute_reply.started": "2025-06-23T23:28:58.199154Z"
    }
   },
   "outputs": [],
   "source": [
    "files_to_upload = (\n",
    "    train_dir / \"images.npy\",\n",
    "    train_dir / \"masks.npy\",\n",
    "    val_dir / \"images.npy\",\n",
    "    val_dir / \"masks.npy\",\n",
    "    test_dir / \"images.npy\",\n",
    ")\n",
    "\n",
    "for file_path in files_to_upload:\n",
    "    s3_client.upload_file(file_path, bucket, \"data/\" + str(file_path))"
   ]
  },
  {
   "cell_type": "markdown",
   "id": "39c2359e-798e-4cda-aacf-07135c772115",
   "metadata": {
    "execution": {
     "iopub.execute_input": "2025-06-23T23:29:41.426261Z",
     "iopub.status.busy": "2025-06-23T23:29:41.425755Z",
     "iopub.status.idle": "2025-06-23T23:29:41.433272Z",
     "shell.execute_reply": "2025-06-23T23:29:41.431639Z",
     "shell.execute_reply.started": "2025-06-23T23:29:41.426236Z"
    }
   },
   "source": [
    "*The notebook was run on `ml.t3.large`*"
   ]
  }
 ],
 "metadata": {
  "kernelspec": {
   "display_name": "Python 3 (ipykernel)",
   "language": "python",
   "name": "python3"
  },
  "language_info": {
   "codemirror_mode": {
    "name": "ipython",
    "version": 3
   },
   "file_extension": ".py",
   "mimetype": "text/x-python",
   "name": "python",
   "nbconvert_exporter": "python",
   "pygments_lexer": "ipython3",
   "version": "3.12.9"
  }
 },
 "nbformat": 4,
 "nbformat_minor": 5
}
